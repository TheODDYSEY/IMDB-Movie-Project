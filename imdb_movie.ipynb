{
 "cells": [
  {
   "cell_type": "code",
   "execution_count": null,
   "metadata": {},
   "outputs": [],
   "source": [
    "import numpy as np\n",
    "import matplotlib.pyplot as plt\n",
    "import seaborn as sns\n",
    "\n",
    "import pandas as pd \n"
   ]
  },
  {
   "cell_type": "code",
   "execution_count": null,
   "metadata": {},
   "outputs": [],
   "source": [
    "data =pd.read_csv('imdb_movie_data_2023.csv')\n",
    "data.head()"
   ]
  },
  {
   "cell_type": "code",
   "execution_count": null,
   "metadata": {},
   "outputs": [],
   "source": [
    "data = data.iloc[:, 1:]"
   ]
  },
  {
   "cell_type": "code",
   "execution_count": null,
   "metadata": {},
   "outputs": [],
   "source": [
    "data.info()"
   ]
  },
  {
   "cell_type": "code",
   "execution_count": null,
   "metadata": {},
   "outputs": [],
   "source": [
    "data.describe(include='all')"
   ]
  },
  {
   "cell_type": "code",
   "execution_count": null,
   "metadata": {},
   "outputs": [],
   "source": [
    "data.isnull().sum()"
   ]
  },
  {
   "cell_type": "code",
   "execution_count": null,
   "metadata": {},
   "outputs": [],
   "source": [
    "top_directors = data['Director'].value_counts()[:20]\n",
    "top_directors = top_directors.reset_index(name='count')\n",
    "df_top_directors = data[data['Director'].isin(top_directors['Director'])]\n",
    "\n",
    "fig = plt.figure(figsize=(14,8))\n",
    "ax = sns.barplot(data=top_directors, y='Director', x='count')\n",
    "\n",
    "for p in ax.patches:\n",
    "    ax.annotate(f'{p.get_width():,.0f}', (p.get_width(), p.get_y() + p.get_height() / 2.),\n",
    "                ha='center', va='center', fontsize=10, color='black', xytext=(5 * (abs(p.get_width())/p.get_width()), 0),\n",
    "                textcoords='offset points')\n",
    "plt.title('Movie Count per Top Directors')"
   ]
  },
  {
   "cell_type": "code",
   "execution_count": null,
   "metadata": {},
   "outputs": [],
   "source": [
    "mean_rating_per_director = df_top_directors.groupby('Director')['Rating'].mean().reset_index(name='mean_rating')\n",
    "mean_rating_per_director = mean_rating_per_director.sort_values('mean_rating', ascending = False)\n",
    "\n",
    "fig = plt.figure(figsize=(14,8))\n",
    "ax = sns.barplot(data=mean_rating_per_director, y='Director', x='mean_rating')\n",
    "\n",
    "for p in ax.patches:\n",
    "    ax.annotate(f'{p.get_width():,.2f}', (p.get_width(), p.get_y() + p.get_height() / 2.),\n",
    "                ha='center', va='center', fontsize=10, color='black', xytext=(15 * (abs(p.get_width())/p.get_width()), 0),\n",
    "                textcoords='offset points')\n",
    "plt.title('Mean Rating per Top Directors')"
   ]
  },
  {
   "cell_type": "code",
   "execution_count": null,
   "metadata": {},
   "outputs": [],
   "source": [
    "mean_votes_per_director = df_top_directors.groupby('Director')['Votes'].mean().reset_index(name='mean_votes')\n",
    "mean_votes_per_director = mean_votes_per_director.sort_values('mean_votes', ascending = False)\n",
    "\n",
    "fig = plt.figure(figsize=(14,8))\n",
    "ax = sns.barplot(data=mean_votes_per_director, y='Director', x='mean_votes')\n",
    "\n",
    "for p in ax.patches:\n",
    "    ax.annotate(f'{p.get_width():,.0f}', (p.get_width(), p.get_y() + p.get_height() / 2.),\n",
    "                ha='center', va='center', fontsize=10, color='black', xytext=(15 * (abs(p.get_width())/p.get_width()), 0),\n",
    "                textcoords='offset points')\n",
    "plt.title('Mean Votes per Top Directors')\n"
   ]
  },
  {
   "cell_type": "code",
   "execution_count": null,
   "metadata": {},
   "outputs": [],
   "source": [
    "top_movies = data[data['Rating'] > 8]\n",
    "top_movies = top_movies.sort_values('Rating', ascending = False)\n",
    "top_movies"
   ]
  },
  {
   "cell_type": "code",
   "execution_count": null,
   "metadata": {},
   "outputs": [],
   "source": [
    "actors_dict = dict()\n",
    "df_no_cast_na = data.dropna(subset=['Cast'])\n",
    "cast_list = df_no_cast_na['Cast'].tolist()\n",
    "for actors in cast_list:\n",
    "    for actor in actors.split(','):\n",
    "        actor = actor.strip()\n",
    "        if actor in actors_dict:\n",
    "            actors_dict[actor] += 1\n",
    "        else:\n",
    "            actors_dict[actor] = 1\n",
    "            \n",
    "top_actors_df = pd.DataFrame(list(actors_dict.items()), columns=['actor_name', 'frequency'])\n",
    "\n",
    "top_actors_df = top_actors_df.sort_values(by='frequency', ascending=False)\n",
    "\n",
    "top_actors_df = top_actors_df.head(20)\n",
    "\n",
    "fig = plt.figure(figsize=(14,8))\n",
    "ax = sns.barplot(data=top_actors_df, y='actor_name', x='frequency')\n",
    "\n",
    "for p in ax.patches:\n",
    "    ax.annotate(f'{p.get_width():,.0f}', (p.get_width(), p.get_y() + p.get_height() / 2.),\n",
    "                ha='center', va='center', fontsize=10, color='black', xytext=(15 * (abs(p.get_width())/p.get_width()), 0),\n",
    "                textcoords='offset points')\n",
    "plt.title('Top Actors by Movie Count')"
   ]
  },
  {
   "cell_type": "code",
   "execution_count": null,
   "metadata": {},
   "outputs": [],
   "source": [
    "data['PG Rating'].value_counts()"
   ]
  },
  {
   "cell_type": "code",
   "execution_count": null,
   "metadata": {},
   "outputs": [],
   "source": [
    "min_year = data['Year'].min()\n",
    "max_year = data['Year'].max()\n",
    "\n",
    "sns.histplot(data=data, x='Year', bins=max_year-min_year+1)\n",
    "plt.title('Movies by Year distribution')"
   ]
  },
  {
   "cell_type": "code",
   "execution_count": null,
   "metadata": {},
   "outputs": [],
   "source": [
    "sns.scatterplot(data = data, x = 'Rating', y = 'Meta Score')\n",
    "plt.title('Meta Score by IMDB Rating')"
   ]
  },
  {
   "cell_type": "code",
   "execution_count": null,
   "metadata": {},
   "outputs": [],
   "source": [
    "mean_votes_per_director"
   ]
  },
  {
   "cell_type": "code",
   "execution_count": null,
   "metadata": {},
   "outputs": [],
   "source": [
    "my_favorite_directors = ['Christopher Nolan', 'Quentin Tarantino','Guy Ritchie']\n",
    "data[data['Director'].isin(my_favorite_directors)].sort_values('Rating', ascending = False)"
   ]
  }
 ],
 "metadata": {
  "kernelspec": {
   "display_name": "Python 3",
   "language": "python",
   "name": "python3"
  },
  "language_info": {
   "codemirror_mode": {
    "name": "ipython",
    "version": 3
   },
   "file_extension": ".py",
   "mimetype": "text/x-python",
   "name": "python",
   "nbconvert_exporter": "python",
   "pygments_lexer": "ipython3",
   "version": "3.12.3"
  }
 },
 "nbformat": 4,
 "nbformat_minor": 2
}
